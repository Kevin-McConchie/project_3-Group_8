{
 "cells": [
  {
   "cell_type": "code",
   "execution_count": 1,
   "id": "4069741b",
   "metadata": {},
   "outputs": [],
   "source": [
    "import pandas as pd\n",
    "import numpy as np\n",
    "import matplotlib.pyplot as plt"
   ]
  },
  {
   "cell_type": "code",
   "execution_count": 2,
   "id": "3cdbe9d5",
   "metadata": {},
   "outputs": [],
   "source": [
    "north_in = pd.read_csv(\"../Brazil Data/north.csv\")"
   ]
  },
  {
   "cell_type": "markdown",
   "id": "5467a2aa",
   "metadata": {},
   "source": [
    "# Investigate Data"
   ]
  },
  {
   "cell_type": "code",
   "execution_count": 3,
   "id": "faf41db7",
   "metadata": {},
   "outputs": [
    {
     "data": {
      "text/html": [
       "<div>\n",
       "<style scoped>\n",
       "    .dataframe tbody tr th:only-of-type {\n",
       "        vertical-align: middle;\n",
       "    }\n",
       "\n",
       "    .dataframe tbody tr th {\n",
       "        vertical-align: top;\n",
       "    }\n",
       "\n",
       "    .dataframe thead th {\n",
       "        text-align: right;\n",
       "    }\n",
       "</style>\n",
       "<table border=\"1\" class=\"dataframe\">\n",
       "  <thead>\n",
       "    <tr style=\"text-align: right;\">\n",
       "      <th></th>\n",
       "      <th>index</th>\n",
       "      <th>Data</th>\n",
       "      <th>Hora</th>\n",
       "      <th>PRECIPITAÇÃO TOTAL, HORÁRIO (mm)</th>\n",
       "      <th>PRESSAO ATMOSFERICA AO NIVEL DA ESTACAO, HORARIA (mB)</th>\n",
       "      <th>PRESSÃO ATMOSFERICA MAX.NA HORA ANT. (AUT) (mB)</th>\n",
       "      <th>PRESSÃO ATMOSFERICA MIN. NA HORA ANT. (AUT) (mB)</th>\n",
       "      <th>RADIACAO GLOBAL (Kj/m²)</th>\n",
       "      <th>TEMPERATURA DO AR - BULBO SECO, HORARIA (°C)</th>\n",
       "      <th>TEMPERATURA DO PONTO DE ORVALHO (°C)</th>\n",
       "      <th>...</th>\n",
       "      <th>VENTO, DIREÇÃO HORARIA (gr) (° (gr))</th>\n",
       "      <th>VENTO, RAJADA MAXIMA (m/s)</th>\n",
       "      <th>VENTO, VELOCIDADE HORARIA (m/s)</th>\n",
       "      <th>region</th>\n",
       "      <th>state</th>\n",
       "      <th>station</th>\n",
       "      <th>station_code</th>\n",
       "      <th>latitude</th>\n",
       "      <th>longitude</th>\n",
       "      <th>height</th>\n",
       "    </tr>\n",
       "  </thead>\n",
       "  <tbody>\n",
       "    <tr>\n",
       "      <th>0</th>\n",
       "      <td>0</td>\n",
       "      <td>2000-05-09</td>\n",
       "      <td>00:00</td>\n",
       "      <td>-9999.0</td>\n",
       "      <td>-9999.0</td>\n",
       "      <td>-9999.0</td>\n",
       "      <td>-9999.0</td>\n",
       "      <td>-9999</td>\n",
       "      <td>-9999.0</td>\n",
       "      <td>-9999.0</td>\n",
       "      <td>...</td>\n",
       "      <td>-9999</td>\n",
       "      <td>-9999.0</td>\n",
       "      <td>-9999.0</td>\n",
       "      <td>N</td>\n",
       "      <td>AM</td>\n",
       "      <td>MANAUS</td>\n",
       "      <td>A101</td>\n",
       "      <td>-3.103333</td>\n",
       "      <td>-60.016389</td>\n",
       "      <td>61.25</td>\n",
       "    </tr>\n",
       "    <tr>\n",
       "      <th>1</th>\n",
       "      <td>1</td>\n",
       "      <td>2000-05-09</td>\n",
       "      <td>01:00</td>\n",
       "      <td>-9999.0</td>\n",
       "      <td>-9999.0</td>\n",
       "      <td>-9999.0</td>\n",
       "      <td>-9999.0</td>\n",
       "      <td>-9999</td>\n",
       "      <td>-9999.0</td>\n",
       "      <td>-9999.0</td>\n",
       "      <td>...</td>\n",
       "      <td>-9999</td>\n",
       "      <td>-9999.0</td>\n",
       "      <td>-9999.0</td>\n",
       "      <td>N</td>\n",
       "      <td>AM</td>\n",
       "      <td>MANAUS</td>\n",
       "      <td>A101</td>\n",
       "      <td>-3.103333</td>\n",
       "      <td>-60.016389</td>\n",
       "      <td>61.25</td>\n",
       "    </tr>\n",
       "    <tr>\n",
       "      <th>2</th>\n",
       "      <td>2</td>\n",
       "      <td>2000-05-09</td>\n",
       "      <td>02:00</td>\n",
       "      <td>-9999.0</td>\n",
       "      <td>-9999.0</td>\n",
       "      <td>-9999.0</td>\n",
       "      <td>-9999.0</td>\n",
       "      <td>-9999</td>\n",
       "      <td>-9999.0</td>\n",
       "      <td>-9999.0</td>\n",
       "      <td>...</td>\n",
       "      <td>-9999</td>\n",
       "      <td>-9999.0</td>\n",
       "      <td>-9999.0</td>\n",
       "      <td>N</td>\n",
       "      <td>AM</td>\n",
       "      <td>MANAUS</td>\n",
       "      <td>A101</td>\n",
       "      <td>-3.103333</td>\n",
       "      <td>-60.016389</td>\n",
       "      <td>61.25</td>\n",
       "    </tr>\n",
       "    <tr>\n",
       "      <th>3</th>\n",
       "      <td>3</td>\n",
       "      <td>2000-05-09</td>\n",
       "      <td>03:00</td>\n",
       "      <td>-9999.0</td>\n",
       "      <td>-9999.0</td>\n",
       "      <td>-9999.0</td>\n",
       "      <td>-9999.0</td>\n",
       "      <td>-9999</td>\n",
       "      <td>-9999.0</td>\n",
       "      <td>-9999.0</td>\n",
       "      <td>...</td>\n",
       "      <td>-9999</td>\n",
       "      <td>-9999.0</td>\n",
       "      <td>-9999.0</td>\n",
       "      <td>N</td>\n",
       "      <td>AM</td>\n",
       "      <td>MANAUS</td>\n",
       "      <td>A101</td>\n",
       "      <td>-3.103333</td>\n",
       "      <td>-60.016389</td>\n",
       "      <td>61.25</td>\n",
       "    </tr>\n",
       "    <tr>\n",
       "      <th>4</th>\n",
       "      <td>4</td>\n",
       "      <td>2000-05-09</td>\n",
       "      <td>04:00</td>\n",
       "      <td>-9999.0</td>\n",
       "      <td>-9999.0</td>\n",
       "      <td>-9999.0</td>\n",
       "      <td>-9999.0</td>\n",
       "      <td>-9999</td>\n",
       "      <td>-9999.0</td>\n",
       "      <td>-9999.0</td>\n",
       "      <td>...</td>\n",
       "      <td>-9999</td>\n",
       "      <td>-9999.0</td>\n",
       "      <td>-9999.0</td>\n",
       "      <td>N</td>\n",
       "      <td>AM</td>\n",
       "      <td>MANAUS</td>\n",
       "      <td>A101</td>\n",
       "      <td>-3.103333</td>\n",
       "      <td>-60.016389</td>\n",
       "      <td>61.25</td>\n",
       "    </tr>\n",
       "  </tbody>\n",
       "</table>\n",
       "<p>5 rows × 27 columns</p>\n",
       "</div>"
      ],
      "text/plain": [
       "   index        Data   Hora  PRECIPITAÇÃO TOTAL, HORÁRIO (mm)  \\\n",
       "0      0  2000-05-09  00:00                           -9999.0   \n",
       "1      1  2000-05-09  01:00                           -9999.0   \n",
       "2      2  2000-05-09  02:00                           -9999.0   \n",
       "3      3  2000-05-09  03:00                           -9999.0   \n",
       "4      4  2000-05-09  04:00                           -9999.0   \n",
       "\n",
       "   PRESSAO ATMOSFERICA AO NIVEL DA ESTACAO, HORARIA (mB)  \\\n",
       "0                                            -9999.0       \n",
       "1                                            -9999.0       \n",
       "2                                            -9999.0       \n",
       "3                                            -9999.0       \n",
       "4                                            -9999.0       \n",
       "\n",
       "   PRESSÃO ATMOSFERICA MAX.NA HORA ANT. (AUT) (mB)  \\\n",
       "0                                          -9999.0   \n",
       "1                                          -9999.0   \n",
       "2                                          -9999.0   \n",
       "3                                          -9999.0   \n",
       "4                                          -9999.0   \n",
       "\n",
       "   PRESSÃO ATMOSFERICA MIN. NA HORA ANT. (AUT) (mB)  RADIACAO GLOBAL (Kj/m²)  \\\n",
       "0                                           -9999.0                    -9999   \n",
       "1                                           -9999.0                    -9999   \n",
       "2                                           -9999.0                    -9999   \n",
       "3                                           -9999.0                    -9999   \n",
       "4                                           -9999.0                    -9999   \n",
       "\n",
       "   TEMPERATURA DO AR - BULBO SECO, HORARIA (°C)  \\\n",
       "0                                       -9999.0   \n",
       "1                                       -9999.0   \n",
       "2                                       -9999.0   \n",
       "3                                       -9999.0   \n",
       "4                                       -9999.0   \n",
       "\n",
       "   TEMPERATURA DO PONTO DE ORVALHO (°C)  ...  \\\n",
       "0                               -9999.0  ...   \n",
       "1                               -9999.0  ...   \n",
       "2                               -9999.0  ...   \n",
       "3                               -9999.0  ...   \n",
       "4                               -9999.0  ...   \n",
       "\n",
       "   VENTO, DIREÇÃO HORARIA (gr) (° (gr))  VENTO, RAJADA MAXIMA (m/s)  \\\n",
       "0                                 -9999                     -9999.0   \n",
       "1                                 -9999                     -9999.0   \n",
       "2                                 -9999                     -9999.0   \n",
       "3                                 -9999                     -9999.0   \n",
       "4                                 -9999                     -9999.0   \n",
       "\n",
       "   VENTO, VELOCIDADE HORARIA (m/s)  region  state  station  station_code  \\\n",
       "0                          -9999.0       N     AM   MANAUS          A101   \n",
       "1                          -9999.0       N     AM   MANAUS          A101   \n",
       "2                          -9999.0       N     AM   MANAUS          A101   \n",
       "3                          -9999.0       N     AM   MANAUS          A101   \n",
       "4                          -9999.0       N     AM   MANAUS          A101   \n",
       "\n",
       "   latitude  longitude  height  \n",
       "0 -3.103333 -60.016389   61.25  \n",
       "1 -3.103333 -60.016389   61.25  \n",
       "2 -3.103333 -60.016389   61.25  \n",
       "3 -3.103333 -60.016389   61.25  \n",
       "4 -3.103333 -60.016389   61.25  \n",
       "\n",
       "[5 rows x 27 columns]"
      ]
     },
     "execution_count": 3,
     "metadata": {},
     "output_type": "execute_result"
    }
   ],
   "source": [
    "north_in.head()"
   ]
  },
  {
   "cell_type": "code",
   "execution_count": 4,
   "id": "acbe0c06",
   "metadata": {},
   "outputs": [
    {
     "name": "stdout",
     "output_type": "stream",
     "text": [
      "<class 'pandas.core.frame.DataFrame'>\n",
      "RangeIndex: 8392320 entries, 0 to 8392319\n",
      "Data columns (total 27 columns):\n",
      " #   Column                                                 Dtype  \n",
      "---  ------                                                 -----  \n",
      " 0   index                                                  int64  \n",
      " 1   Data                                                   object \n",
      " 2   Hora                                                   object \n",
      " 3   PRECIPITAÇÃO TOTAL, HORÁRIO (mm)                       float64\n",
      " 4   PRESSAO ATMOSFERICA AO NIVEL DA ESTACAO, HORARIA (mB)  float64\n",
      " 5   PRESSÃO ATMOSFERICA MAX.NA HORA ANT. (AUT) (mB)        float64\n",
      " 6   PRESSÃO ATMOSFERICA MIN. NA HORA ANT. (AUT) (mB)       float64\n",
      " 7   RADIACAO GLOBAL (Kj/m²)                                int64  \n",
      " 8   TEMPERATURA DO AR - BULBO SECO, HORARIA (°C)           float64\n",
      " 9   TEMPERATURA DO PONTO DE ORVALHO (°C)                   float64\n",
      " 10  TEMPERATURA MÁXIMA NA HORA ANT. (AUT) (°C)             float64\n",
      " 11  TEMPERATURA MÍNIMA NA HORA ANT. (AUT) (°C)             float64\n",
      " 12  TEMPERATURA ORVALHO MAX. NA HORA ANT. (AUT) (°C)       float64\n",
      " 13  TEMPERATURA ORVALHO MIN. NA HORA ANT. (AUT) (°C)       float64\n",
      " 14  UMIDADE REL. MAX. NA HORA ANT. (AUT) (%)               int64  \n",
      " 15  UMIDADE REL. MIN. NA HORA ANT. (AUT) (%)               int64  \n",
      " 16  UMIDADE RELATIVA DO AR, HORARIA (%)                    int64  \n",
      " 17  VENTO, DIREÇÃO HORARIA (gr) (° (gr))                   int64  \n",
      " 18  VENTO, RAJADA MAXIMA (m/s)                             float64\n",
      " 19  VENTO, VELOCIDADE HORARIA (m/s)                        float64\n",
      " 20  region                                                 object \n",
      " 21  state                                                  object \n",
      " 22  station                                                object \n",
      " 23  station_code                                           object \n",
      " 24  latitude                                               float64\n",
      " 25  longitude                                              float64\n",
      " 26  height                                                 float64\n",
      "dtypes: float64(15), int64(6), object(6)\n",
      "memory usage: 1.7+ GB\n"
     ]
    }
   ],
   "source": [
    "north_in.info()"
   ]
  },
  {
   "cell_type": "markdown",
   "id": "09f9cc8f",
   "metadata": {},
   "source": [
    "# Clean Data"
   ]
  },
  {
   "cell_type": "code",
   "execution_count": 5,
   "id": "3bc79eaa",
   "metadata": {},
   "outputs": [],
   "source": [
    "# Reset columns and get relevant info\n",
    "north_an = north_in.drop([\"index\"],axis=1)\n",
    "renamed_columns_en = ['date','hour','total_precipitation','pressao atmosferica ao nivel da estacao (mb)','atmospheric pressure max. in the previous hour (mb)','atmospheric pressure min. in the previous hour (mb)','radiation (kj/m2)','air temperature - dry bulb (°c)','dew point temperature (°c)','max_temperature','min_temperature','dew temperature max. in the previous hour (°c)','dew temperature min. in the previous hour (°c)','max_humidity','min_humidity','air relative humidity (%)','wind direction (° (gr))','wind rajada maxima (m/s)','wind_speed','region','state','station','station_id','latitude','longitude','height']\n",
    "north_an.columns = renamed_columns_en\n",
    "north_an.drop(['pressao atmosferica ao nivel da estacao (mb)','atmospheric pressure max. in the previous hour (mb)','atmospheric pressure min. in the previous hour (mb)','radiation (kj/m2)','air temperature - dry bulb (°c)','dew point temperature (°c)', 'dew temperature max. in the previous hour (°c)','dew temperature min. in the previous hour (°c)','air relative humidity (%)','wind direction (° (gr))','wind rajada maxima (m/s)','region', 'state', 'latitude', 'longitude', 'height'], inplace=True, axis=1)"
   ]
  },
  {
   "cell_type": "code",
   "execution_count": 6,
   "id": "a2211205",
   "metadata": {},
   "outputs": [
    {
     "name": "stdout",
     "output_type": "stream",
     "text": [
      "(1005984, 10)\n",
      "(483320, 10)\n"
     ]
    }
   ],
   "source": [
    "# Deal with NA data,\n",
    "# if just a small portion, then delete it\n",
    "north_an = north_an[north_an['date'] >= '2020-01-01']\n",
    "print(north_an.shape)\n",
    "north_an = north_an.replace(to_replace= -9999,value=np.NaN)\n",
    "north_an.dropna(inplace=True)\n",
    "print(north_an.shape)"
   ]
  },
  {
   "cell_type": "code",
   "execution_count": 7,
   "id": "d408194b",
   "metadata": {},
   "outputs": [
    {
     "data": {
      "text/html": [
       "<div>\n",
       "<style scoped>\n",
       "    .dataframe tbody tr th:only-of-type {\n",
       "        vertical-align: middle;\n",
       "    }\n",
       "\n",
       "    .dataframe tbody tr th {\n",
       "        vertical-align: top;\n",
       "    }\n",
       "\n",
       "    .dataframe thead th {\n",
       "        text-align: right;\n",
       "    }\n",
       "</style>\n",
       "<table border=\"1\" class=\"dataframe\">\n",
       "  <thead>\n",
       "    <tr style=\"text-align: right;\">\n",
       "      <th></th>\n",
       "      <th>date</th>\n",
       "      <th>hour</th>\n",
       "      <th>total_precipitation</th>\n",
       "      <th>max_temperature</th>\n",
       "      <th>min_temperature</th>\n",
       "      <th>max_humidity</th>\n",
       "      <th>min_humidity</th>\n",
       "      <th>wind_speed</th>\n",
       "      <th>station</th>\n",
       "      <th>station_id</th>\n",
       "      <th>year</th>\n",
       "      <th>month</th>\n",
       "    </tr>\n",
       "  </thead>\n",
       "  <tbody>\n",
       "    <tr>\n",
       "      <th>0</th>\n",
       "      <td>2020-01-01</td>\n",
       "      <td>00:00</td>\n",
       "      <td>0.0</td>\n",
       "      <td>27.9</td>\n",
       "      <td>26.8</td>\n",
       "      <td>81.0</td>\n",
       "      <td>71.0</td>\n",
       "      <td>0.0</td>\n",
       "      <td>LABREA</td>\n",
       "      <td>A111</td>\n",
       "      <td>2020</td>\n",
       "      <td>01</td>\n",
       "    </tr>\n",
       "    <tr>\n",
       "      <th>1</th>\n",
       "      <td>2020-01-01</td>\n",
       "      <td>01:00</td>\n",
       "      <td>0.0</td>\n",
       "      <td>26.8</td>\n",
       "      <td>26.5</td>\n",
       "      <td>83.0</td>\n",
       "      <td>81.0</td>\n",
       "      <td>0.0</td>\n",
       "      <td>LABREA</td>\n",
       "      <td>A111</td>\n",
       "      <td>2020</td>\n",
       "      <td>01</td>\n",
       "    </tr>\n",
       "    <tr>\n",
       "      <th>2</th>\n",
       "      <td>2020-01-01</td>\n",
       "      <td>02:00</td>\n",
       "      <td>0.0</td>\n",
       "      <td>26.8</td>\n",
       "      <td>26.0</td>\n",
       "      <td>88.0</td>\n",
       "      <td>82.0</td>\n",
       "      <td>0.9</td>\n",
       "      <td>LABREA</td>\n",
       "      <td>A111</td>\n",
       "      <td>2020</td>\n",
       "      <td>01</td>\n",
       "    </tr>\n",
       "    <tr>\n",
       "      <th>3</th>\n",
       "      <td>2020-01-01</td>\n",
       "      <td>03:00</td>\n",
       "      <td>0.0</td>\n",
       "      <td>26.0</td>\n",
       "      <td>25.6</td>\n",
       "      <td>91.0</td>\n",
       "      <td>88.0</td>\n",
       "      <td>0.1</td>\n",
       "      <td>LABREA</td>\n",
       "      <td>A111</td>\n",
       "      <td>2020</td>\n",
       "      <td>01</td>\n",
       "    </tr>\n",
       "    <tr>\n",
       "      <th>4</th>\n",
       "      <td>2020-01-01</td>\n",
       "      <td>04:00</td>\n",
       "      <td>0.0</td>\n",
       "      <td>25.7</td>\n",
       "      <td>25.6</td>\n",
       "      <td>92.0</td>\n",
       "      <td>91.0</td>\n",
       "      <td>0.0</td>\n",
       "      <td>LABREA</td>\n",
       "      <td>A111</td>\n",
       "      <td>2020</td>\n",
       "      <td>01</td>\n",
       "    </tr>\n",
       "  </tbody>\n",
       "</table>\n",
       "</div>"
      ],
      "text/plain": [
       "         date   hour  total_precipitation  max_temperature  min_temperature  \\\n",
       "0  2020-01-01  00:00                  0.0             27.9             26.8   \n",
       "1  2020-01-01  01:00                  0.0             26.8             26.5   \n",
       "2  2020-01-01  02:00                  0.0             26.8             26.0   \n",
       "3  2020-01-01  03:00                  0.0             26.0             25.6   \n",
       "4  2020-01-01  04:00                  0.0             25.7             25.6   \n",
       "\n",
       "   max_humidity  min_humidity  wind_speed station station_id  year month  \n",
       "0          81.0          71.0         0.0  LABREA       A111  2020    01  \n",
       "1          83.0          81.0         0.0  LABREA       A111  2020    01  \n",
       "2          88.0          82.0         0.9  LABREA       A111  2020    01  \n",
       "3          91.0          88.0         0.1  LABREA       A111  2020    01  \n",
       "4          92.0          91.0         0.0  LABREA       A111  2020    01  "
      ]
     },
     "execution_count": 7,
     "metadata": {},
     "output_type": "execute_result"
    }
   ],
   "source": [
    "# Get YEAR & MONTH column for further analysis\n",
    "north_an.reset_index(drop=True, inplace=True)\n",
    "north_an[\"year\"] = [north_an[\"date\"][i][:4] for i in range(len(north_an[\"date\"]))]\n",
    "north_an[\"month\"] = [north_an[\"date\"][i][5:7] for i in range(len(north_an[\"date\"]))]\n",
    "north_an.head()\n",
    "\n"
   ]
  },
  {
   "cell_type": "code",
   "execution_count": 8,
   "id": "a33998c3",
   "metadata": {},
   "outputs": [
    {
     "ename": "KeyError",
     "evalue": "'state'",
     "output_type": "error",
     "traceback": [
      "\u001b[0;31m---------------------------------------------------------------------------\u001b[0m",
      "\u001b[0;31mKeyError\u001b[0m                                  Traceback (most recent call last)",
      "\u001b[0;32m~/opt/anaconda3/envs/bootcamp/lib/python3.7/site-packages/pandas/core/indexes/base.py\u001b[0m in \u001b[0;36mget_loc\u001b[0;34m(self, key, method, tolerance)\u001b[0m\n\u001b[1;32m   3360\u001b[0m             \u001b[0;32mtry\u001b[0m\u001b[0;34m:\u001b[0m\u001b[0;34m\u001b[0m\u001b[0;34m\u001b[0m\u001b[0m\n\u001b[0;32m-> 3361\u001b[0;31m                 \u001b[0;32mreturn\u001b[0m \u001b[0mself\u001b[0m\u001b[0;34m.\u001b[0m\u001b[0m_engine\u001b[0m\u001b[0;34m.\u001b[0m\u001b[0mget_loc\u001b[0m\u001b[0;34m(\u001b[0m\u001b[0mcasted_key\u001b[0m\u001b[0;34m)\u001b[0m\u001b[0;34m\u001b[0m\u001b[0;34m\u001b[0m\u001b[0m\n\u001b[0m\u001b[1;32m   3362\u001b[0m             \u001b[0;32mexcept\u001b[0m \u001b[0mKeyError\u001b[0m \u001b[0;32mas\u001b[0m \u001b[0merr\u001b[0m\u001b[0;34m:\u001b[0m\u001b[0;34m\u001b[0m\u001b[0;34m\u001b[0m\u001b[0m\n",
      "\u001b[0;32m~/opt/anaconda3/envs/bootcamp/lib/python3.7/site-packages/pandas/_libs/index.pyx\u001b[0m in \u001b[0;36mpandas._libs.index.IndexEngine.get_loc\u001b[0;34m()\u001b[0m\n",
      "\u001b[0;32m~/opt/anaconda3/envs/bootcamp/lib/python3.7/site-packages/pandas/_libs/index.pyx\u001b[0m in \u001b[0;36mpandas._libs.index.IndexEngine.get_loc\u001b[0;34m()\u001b[0m\n",
      "\u001b[0;32mpandas/_libs/hashtable_class_helper.pxi\u001b[0m in \u001b[0;36mpandas._libs.hashtable.PyObjectHashTable.get_item\u001b[0;34m()\u001b[0m\n",
      "\u001b[0;32mpandas/_libs/hashtable_class_helper.pxi\u001b[0m in \u001b[0;36mpandas._libs.hashtable.PyObjectHashTable.get_item\u001b[0;34m()\u001b[0m\n",
      "\u001b[0;31mKeyError\u001b[0m: 'state'",
      "\nThe above exception was the direct cause of the following exception:\n",
      "\u001b[0;31mKeyError\u001b[0m                                  Traceback (most recent call last)",
      "\u001b[0;32m/var/folders/pf/bkzd2xbj5dsgv5y_gv6jf7200000gn/T/ipykernel_7919/2466876646.py\u001b[0m in \u001b[0;36m<module>\u001b[0;34m\u001b[0m\n\u001b[1;32m      1\u001b[0m \u001b[0;31m# What states are covered in North\u001b[0m\u001b[0;34m\u001b[0m\u001b[0;34m\u001b[0m\u001b[0;34m\u001b[0m\u001b[0m\n\u001b[0;32m----> 2\u001b[0;31m \u001b[0mnorth_an\u001b[0m\u001b[0;34m[\u001b[0m\u001b[0;34m\"state\"\u001b[0m\u001b[0;34m]\u001b[0m\u001b[0;34m.\u001b[0m\u001b[0munique\u001b[0m\u001b[0;34m(\u001b[0m\u001b[0;34m)\u001b[0m\u001b[0;34m\u001b[0m\u001b[0;34m\u001b[0m\u001b[0m\n\u001b[0m",
      "\u001b[0;32m~/opt/anaconda3/envs/bootcamp/lib/python3.7/site-packages/pandas/core/frame.py\u001b[0m in \u001b[0;36m__getitem__\u001b[0;34m(self, key)\u001b[0m\n\u001b[1;32m   3456\u001b[0m             \u001b[0;32mif\u001b[0m \u001b[0mself\u001b[0m\u001b[0;34m.\u001b[0m\u001b[0mcolumns\u001b[0m\u001b[0;34m.\u001b[0m\u001b[0mnlevels\u001b[0m \u001b[0;34m>\u001b[0m \u001b[0;36m1\u001b[0m\u001b[0;34m:\u001b[0m\u001b[0;34m\u001b[0m\u001b[0;34m\u001b[0m\u001b[0m\n\u001b[1;32m   3457\u001b[0m                 \u001b[0;32mreturn\u001b[0m \u001b[0mself\u001b[0m\u001b[0;34m.\u001b[0m\u001b[0m_getitem_multilevel\u001b[0m\u001b[0;34m(\u001b[0m\u001b[0mkey\u001b[0m\u001b[0;34m)\u001b[0m\u001b[0;34m\u001b[0m\u001b[0;34m\u001b[0m\u001b[0m\n\u001b[0;32m-> 3458\u001b[0;31m             \u001b[0mindexer\u001b[0m \u001b[0;34m=\u001b[0m \u001b[0mself\u001b[0m\u001b[0;34m.\u001b[0m\u001b[0mcolumns\u001b[0m\u001b[0;34m.\u001b[0m\u001b[0mget_loc\u001b[0m\u001b[0;34m(\u001b[0m\u001b[0mkey\u001b[0m\u001b[0;34m)\u001b[0m\u001b[0;34m\u001b[0m\u001b[0;34m\u001b[0m\u001b[0m\n\u001b[0m\u001b[1;32m   3459\u001b[0m             \u001b[0;32mif\u001b[0m \u001b[0mis_integer\u001b[0m\u001b[0;34m(\u001b[0m\u001b[0mindexer\u001b[0m\u001b[0;34m)\u001b[0m\u001b[0;34m:\u001b[0m\u001b[0;34m\u001b[0m\u001b[0;34m\u001b[0m\u001b[0m\n\u001b[1;32m   3460\u001b[0m                 \u001b[0mindexer\u001b[0m \u001b[0;34m=\u001b[0m \u001b[0;34m[\u001b[0m\u001b[0mindexer\u001b[0m\u001b[0;34m]\u001b[0m\u001b[0;34m\u001b[0m\u001b[0;34m\u001b[0m\u001b[0m\n",
      "\u001b[0;32m~/opt/anaconda3/envs/bootcamp/lib/python3.7/site-packages/pandas/core/indexes/base.py\u001b[0m in \u001b[0;36mget_loc\u001b[0;34m(self, key, method, tolerance)\u001b[0m\n\u001b[1;32m   3361\u001b[0m                 \u001b[0;32mreturn\u001b[0m \u001b[0mself\u001b[0m\u001b[0;34m.\u001b[0m\u001b[0m_engine\u001b[0m\u001b[0;34m.\u001b[0m\u001b[0mget_loc\u001b[0m\u001b[0;34m(\u001b[0m\u001b[0mcasted_key\u001b[0m\u001b[0;34m)\u001b[0m\u001b[0;34m\u001b[0m\u001b[0;34m\u001b[0m\u001b[0m\n\u001b[1;32m   3362\u001b[0m             \u001b[0;32mexcept\u001b[0m \u001b[0mKeyError\u001b[0m \u001b[0;32mas\u001b[0m \u001b[0merr\u001b[0m\u001b[0;34m:\u001b[0m\u001b[0;34m\u001b[0m\u001b[0;34m\u001b[0m\u001b[0m\n\u001b[0;32m-> 3363\u001b[0;31m                 \u001b[0;32mraise\u001b[0m \u001b[0mKeyError\u001b[0m\u001b[0;34m(\u001b[0m\u001b[0mkey\u001b[0m\u001b[0;34m)\u001b[0m \u001b[0;32mfrom\u001b[0m \u001b[0merr\u001b[0m\u001b[0;34m\u001b[0m\u001b[0;34m\u001b[0m\u001b[0m\n\u001b[0m\u001b[1;32m   3364\u001b[0m \u001b[0;34m\u001b[0m\u001b[0m\n\u001b[1;32m   3365\u001b[0m         \u001b[0;32mif\u001b[0m \u001b[0mis_scalar\u001b[0m\u001b[0;34m(\u001b[0m\u001b[0mkey\u001b[0m\u001b[0;34m)\u001b[0m \u001b[0;32mand\u001b[0m \u001b[0misna\u001b[0m\u001b[0;34m(\u001b[0m\u001b[0mkey\u001b[0m\u001b[0;34m)\u001b[0m \u001b[0;32mand\u001b[0m \u001b[0;32mnot\u001b[0m \u001b[0mself\u001b[0m\u001b[0;34m.\u001b[0m\u001b[0mhasnans\u001b[0m\u001b[0;34m:\u001b[0m\u001b[0;34m\u001b[0m\u001b[0;34m\u001b[0m\u001b[0m\n",
      "\u001b[0;31mKeyError\u001b[0m: 'state'"
     ]
    }
   ],
   "source": [
    "# What states are covered in North\n",
    "north_an[\"state\"].unique()"
   ]
  },
  {
   "cell_type": "code",
   "execution_count": null,
   "id": "6e1977de",
   "metadata": {},
   "outputs": [
    {
     "name": "stdout",
     "output_type": "stream",
     "text": [
      "2021-04-30 2000-05-09\n"
     ]
    }
   ],
   "source": [
    "# How many years it covers\n",
    "print(north_an[\"date\"].max(), north_an[\"date\"].min())"
   ]
  },
  {
   "cell_type": "code",
   "execution_count": null,
   "id": "2082e0ce",
   "metadata": {},
   "outputs": [
    {
     "name": "stdout",
     "output_type": "stream",
     "text": [
      "['A101' 'A202' 'A201' 'A009' 'A010' 'A018' 'A213' 'A212' 'A021' 'A020'\n",
      " 'A925' 'A019' 'A940' 'A102' 'A112' 'A939' 'A938' 'A230' 'A231' 'A124'\n",
      " 'A236' 'A128' 'A214' 'A119' 'A209' 'A227' 'A210' 'A117' 'A235' 'A113'\n",
      " 'A215' 'A233' 'A110' 'A226' 'A126' 'A229' 'A122' 'A211' 'A039' 'A125'\n",
      " 'A120' 'A242' 'A123' 'A121' 'A104' 'A241' 'A038' 'A111' 'A234' 'A140'\n",
      " 'A136' 'A138' 'A137' 'A240' 'A044' 'A135' 'A134' 'A246' 'A248' 'A232'\n",
      " 'A239' 'A040' 'A043' 'A109' 'A041' 'A249' 'A133' 'A250' 'A054' 'A108'\n",
      " 'A052' 'A049' 'A216' 'A053' 'A048' 'A050' 'A055' 'A051' 'A247' 'A228'\n",
      " 'A251' 'A253' 'A252' 'A144' 'A244' 'A254' 'A256']\n"
     ]
    }
   ],
   "source": [
    "# How many stations it included\n",
    "print(north_an[\"station_code\"].unique())"
   ]
  },
  {
   "cell_type": "markdown",
   "id": "2bc75825",
   "metadata": {},
   "source": [
    "# Try to get 10,000 rows"
   ]
  },
  {
   "cell_type": "markdown",
   "id": "42a3648b",
   "metadata": {},
   "source": [
    "Data context proposed: weather info in year 2020 across 12 months at midday for 27 stations in North region of Brazil"
   ]
  },
  {
   "cell_type": "code",
   "execution_count": 9,
   "id": "d2f4b45b",
   "metadata": {},
   "outputs": [],
   "source": [
    "north_selected = north_an.loc[(north_an[\"year\"] == \"2020\") & (north_an[\"hour\"] == \"12:00\" )]"
   ]
  },
  {
   "cell_type": "code",
   "execution_count": null,
   "id": "ef351cdb",
   "metadata": {},
   "outputs": [
    {
     "data": {
      "text/plain": [
       "array(['A111', 'A134', 'A051', 'A216', 'A247', 'A113', 'A119', 'A939',\n",
       "       'A055', 'A018', 'A215', 'A240', 'A123', 'A104', 'A050', 'A202',\n",
       "       'A250', 'A101', 'A102', 'A233', 'A235', 'A044', 'A048', 'A234',\n",
       "       'A228', 'A009', 'A109', 'A249', 'A138', 'A038', 'A214', 'A209',\n",
       "       'A110', 'A226', 'A021', 'A117', 'A241', 'A253', 'A940', 'A120',\n",
       "       'A135', 'A019', 'A108', 'A246', 'A938', 'A239', 'A053', 'A231',\n",
       "       'A252', 'A043', 'A010', 'A121', 'A112', 'A041', 'A248', 'A213',\n",
       "       'A201', 'A236', 'A136', 'A052', 'A039', 'A040', 'A054', 'A229',\n",
       "       'A125', 'A212', 'A232', 'A122', 'A126', 'A020', 'A049', 'A244',\n",
       "       'A227', 'A140', 'A124'], dtype=object)"
      ]
     },
     "execution_count": 31,
     "metadata": {},
     "output_type": "execute_result"
    }
   ],
   "source": [
    "# north_selected[\"station_code\"].unique()"
   ]
  },
  {
   "cell_type": "code",
   "execution_count": 10,
   "id": "7d8dd43c",
   "metadata": {},
   "outputs": [],
   "source": [
    "# select stations\n",
    "chosen_station = ['A111', 'A134', 'A051', 'A216', 'A247', 'A113', 'A119', 'A939',\n",
    "       'A055', 'A018', 'A215', 'A240', 'A123', 'A104', 'A050', 'A202',\n",
    "       'A250', 'A101', 'A102', 'A233', 'A235', 'A044', 'A048', 'A234']"
   ]
  },
  {
   "cell_type": "code",
   "execution_count": 12,
   "id": "6cb3eced",
   "metadata": {},
   "outputs": [],
   "source": [
    "north_selected_final = north_selected[north_selected[\"station_id\"].isin(chosen_station)]"
   ]
  },
  {
   "cell_type": "code",
   "execution_count": null,
   "id": "39b1d9ce",
   "metadata": {},
   "outputs": [
    {
     "name": "stdout",
     "output_type": "stream",
     "text": [
      "['date', 'hour', 'total_precipitation', 'max_temperature', 'min_temperature', 'max_humidity', 'min_humidity', 'wind_speed', 'station', 'station_code', 'year', 'month']\n"
     ]
    }
   ],
   "source": [
    "# final context\n",
    "# print(north_selected_final.shape)\n",
    "# print(north_selected_final[\"year\"].unique())\n",
    "# print(north_selected_final[\"month\"].unique())\n",
    "# cols = north_selected_final.columns.to_list()\n",
    "# print(cols)"
   ]
  },
  {
   "cell_type": "code",
   "execution_count": 13,
   "id": "fbc847f1",
   "metadata": {},
   "outputs": [],
   "source": [
    "cols = ['station_id','date', 'hour', 'total_precipitation', 'max_temperature', 'min_temperature', 'max_humidity', 'min_humidity', 'wind_speed', 'station', 'year', 'month']\n",
    "\n",
    "north_selected_final = north_selected_final[cols]"
   ]
  },
  {
   "cell_type": "code",
   "execution_count": 14,
   "id": "7f341e95",
   "metadata": {},
   "outputs": [
    {
     "data": {
      "text/html": [
       "<div>\n",
       "<style scoped>\n",
       "    .dataframe tbody tr th:only-of-type {\n",
       "        vertical-align: middle;\n",
       "    }\n",
       "\n",
       "    .dataframe tbody tr th {\n",
       "        vertical-align: top;\n",
       "    }\n",
       "\n",
       "    .dataframe thead th {\n",
       "        text-align: right;\n",
       "    }\n",
       "</style>\n",
       "<table border=\"1\" class=\"dataframe\">\n",
       "  <thead>\n",
       "    <tr style=\"text-align: right;\">\n",
       "      <th></th>\n",
       "      <th>station_id</th>\n",
       "      <th>date</th>\n",
       "      <th>hour</th>\n",
       "      <th>total_precipitation</th>\n",
       "      <th>max_temperature</th>\n",
       "      <th>min_temperature</th>\n",
       "      <th>max_humidity</th>\n",
       "      <th>min_humidity</th>\n",
       "      <th>wind_speed</th>\n",
       "      <th>station</th>\n",
       "      <th>year</th>\n",
       "      <th>month</th>\n",
       "    </tr>\n",
       "  </thead>\n",
       "  <tbody>\n",
       "    <tr>\n",
       "      <th>0</th>\n",
       "      <td>A111</td>\n",
       "      <td>2020-01-01</td>\n",
       "      <td>12:00</td>\n",
       "      <td>1.6</td>\n",
       "      <td>24.0</td>\n",
       "      <td>23.7</td>\n",
       "      <td>94.0</td>\n",
       "      <td>94.0</td>\n",
       "      <td>0.0</td>\n",
       "      <td>LABREA</td>\n",
       "      <td>2020</td>\n",
       "      <td>01</td>\n",
       "    </tr>\n",
       "    <tr>\n",
       "      <th>1</th>\n",
       "      <td>A111</td>\n",
       "      <td>2020-01-02</td>\n",
       "      <td>12:00</td>\n",
       "      <td>0.0</td>\n",
       "      <td>25.9</td>\n",
       "      <td>23.2</td>\n",
       "      <td>94.0</td>\n",
       "      <td>82.0</td>\n",
       "      <td>0.7</td>\n",
       "      <td>LABREA</td>\n",
       "      <td>2020</td>\n",
       "      <td>01</td>\n",
       "    </tr>\n",
       "    <tr>\n",
       "      <th>2</th>\n",
       "      <td>A111</td>\n",
       "      <td>2020-01-03</td>\n",
       "      <td>12:00</td>\n",
       "      <td>0.2</td>\n",
       "      <td>24.9</td>\n",
       "      <td>23.6</td>\n",
       "      <td>94.0</td>\n",
       "      <td>90.0</td>\n",
       "      <td>0.4</td>\n",
       "      <td>LABREA</td>\n",
       "      <td>2020</td>\n",
       "      <td>01</td>\n",
       "    </tr>\n",
       "    <tr>\n",
       "      <th>3</th>\n",
       "      <td>A111</td>\n",
       "      <td>2020-01-04</td>\n",
       "      <td>12:00</td>\n",
       "      <td>0.0</td>\n",
       "      <td>25.5</td>\n",
       "      <td>24.9</td>\n",
       "      <td>93.0</td>\n",
       "      <td>89.0</td>\n",
       "      <td>1.5</td>\n",
       "      <td>LABREA</td>\n",
       "      <td>2020</td>\n",
       "      <td>01</td>\n",
       "    </tr>\n",
       "    <tr>\n",
       "      <th>4</th>\n",
       "      <td>A111</td>\n",
       "      <td>2020-01-05</td>\n",
       "      <td>12:00</td>\n",
       "      <td>0.0</td>\n",
       "      <td>25.1</td>\n",
       "      <td>24.4</td>\n",
       "      <td>94.0</td>\n",
       "      <td>92.0</td>\n",
       "      <td>0.3</td>\n",
       "      <td>LABREA</td>\n",
       "      <td>2020</td>\n",
       "      <td>01</td>\n",
       "    </tr>\n",
       "  </tbody>\n",
       "</table>\n",
       "</div>"
      ],
      "text/plain": [
       "  station_id        date   hour  total_precipitation  max_temperature  \\\n",
       "0       A111  2020-01-01  12:00                  1.6             24.0   \n",
       "1       A111  2020-01-02  12:00                  0.0             25.9   \n",
       "2       A111  2020-01-03  12:00                  0.2             24.9   \n",
       "3       A111  2020-01-04  12:00                  0.0             25.5   \n",
       "4       A111  2020-01-05  12:00                  0.0             25.1   \n",
       "\n",
       "   min_temperature  max_humidity  min_humidity  wind_speed station  year month  \n",
       "0             23.7          94.0          94.0         0.0  LABREA  2020    01  \n",
       "1             23.2          94.0          82.0         0.7  LABREA  2020    01  \n",
       "2             23.6          94.0          90.0         0.4  LABREA  2020    01  \n",
       "3             24.9          93.0          89.0         1.5  LABREA  2020    01  \n",
       "4             24.4          94.0          92.0         0.3  LABREA  2020    01  "
      ]
     },
     "execution_count": 14,
     "metadata": {},
     "output_type": "execute_result"
    }
   ],
   "source": [
    "\n",
    "north_selected_final.reset_index(drop=True, inplace=True)\n",
    "north_selected_final.head()"
   ]
  },
  {
   "cell_type": "code",
   "execution_count": null,
   "id": "53a5a6d0",
   "metadata": {},
   "outputs": [],
   "source": []
  },
  {
   "cell_type": "code",
   "execution_count": null,
   "id": "e068ecc0",
   "metadata": {},
   "outputs": [],
   "source": [
    "from sqlalchemy import create_engine\n",
    "\n",
    "engine = create_engine(f'sqlite:///<replace_this_with_path_to_db_file>')\n",
    "north_selected_final.to_sql(\"north\", con=engine, if_exists='append')"
   ]
  },
  {
   "cell_type": "markdown",
   "id": "910b9410",
   "metadata": {},
   "source": [
    "# Data Initial investigation"
   ]
  },
  {
   "cell_type": "code",
   "execution_count": null,
   "id": "8efd224e",
   "metadata": {},
   "outputs": [
    {
     "data": {
      "image/png": "[encoded data removed]",
      "text/plain": [
       "<Figure size 432x288 with 1 Axes>"
      ]
     },
     "metadata": {
      "needs_background": "light"
     },
     "output_type": "display_data"
    }
   ],
   "source": [
    "north_selected_final.boxplot(column=\"total precipitation (mm)\",by=\"month\")\n",
    "plt.show()"
   ]
  },
  {
   "cell_type": "code",
   "execution_count": null,
   "id": "56304499",
   "metadata": {},
   "outputs": [
    {
     "data": {
      "image/png": "[encoded data removed]",
      "text/plain": [
       "<Figure size 432x288 with 1 Axes>"
      ]
     },
     "metadata": {
      "needs_background": "light"
     },
     "output_type": "display_data"
    }
   ],
   "source": [
    "north_selected_final.boxplot(column=\"wind speed (m/s)\",by=\"month\")\n",
    "plt.show()"
   ]
  },
  {
   "cell_type": "code",
   "execution_count": null,
   "id": "c48a7bfc",
   "metadata": {},
   "outputs": [
    {
     "data": {
      "image/png": "[encoded data removed]",
      "text/plain": [
       "<Figure size 432x288 with 1 Axes>"
      ]
     },
     "metadata": {
      "needs_background": "light"
     },
     "output_type": "display_data"
    }
   ],
   "source": [
    "north_selected_final.boxplot(column=\"relative humidity min. in the previous hour (%)\",by=\"month\")\n",
    "plt.show()"
   ]
  },
  {
   "cell_type": "code",
   "execution_count": null,
   "id": "b79827bd",
   "metadata": {},
   "outputs": [],
   "source": []
  }
 ],
 "metadata": {
  "kernelspec": {
   "display_name": "Python 3.7.13 ('bootcamp')",
   "language": "python",
   "name": "python3"
  },
  "language_info": {
   "codemirror_mode": {
    "name": "ipython",
    "version": 3
   },
   "file_extension": ".py",
   "mimetype": "text/x-python",
   "name": "python",
   "nbconvert_exporter": "python",
   "pygments_lexer": "ipython3",
   "version": "3.7.13"
  },
  "vscode": {
   "interpreter": {
    "hash": "bb77244d981075190e8bf029e61e7022e179ee55f7c5c706b907b322840c36db"
   }
  }
 },
 "nbformat": 4,
 "nbformat_minor": 5
}
