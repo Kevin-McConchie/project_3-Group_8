{
 "cells": [
  {
   "cell_type": "code",
   "execution_count": 1,
   "metadata": {},
   "outputs": [],
   "source": [
    "import pandas as pd\n",
    "import numpy as np\n",
    "import matplotlib.pyplot as plt\n",
    "# from statsmodels.tsa.stattools import acf,pacf\n",
    "# from statsmodels.graphics.tsaplots import plot_acf, plot_pacf"
   ]
  },
  {
   "cell_type": "code",
   "execution_count": 2,
   "metadata": {},
   "outputs": [],
   "source": [
    "north_east = pd.read_csv(\"Brazil Data/northeast.csv\")"
   ]
  },
  {
   "cell_type": "code",
   "execution_count": 3,
   "metadata": {},
   "outputs": [
    {
     "name": "stdout",
     "output_type": "stream",
     "text": [
      "2000-05-13 2021-04-30\n",
      "['A401' 'A402' 'A404' 'A405' 'A307' 'A304' 'A406' 'A203' 'A412' 'A302'\n",
      " 'A306' 'A410' 'A408' 'A308' 'A409' 'A303' 'A305' 'A407' 'A309' 'A311'\n",
      " 'A301' 'A310' 'A312' 'A313' 'A417' 'A317' 'A416' 'A320' 'A325' 'A324'\n",
      " 'A339' 'A316' 'A335' 'A331' 'A341' 'A338' 'A314' 'A322' 'A418' 'A315'\n",
      " 'A336' 'A204' 'A333' 'A205' 'A330' 'A329' 'A337' 'A323' 'A334' 'A319'\n",
      " 'A332' 'A321' 'A415' 'A340' 'A327' 'A326' 'A318' 'A413' 'A414' 'A422'\n",
      " 'A328' 'A351' 'A343' 'A426' 'A347' 'A439' 'A440' 'A359' 'A344' 'A428'\n",
      " 'A222' 'A438' 'A218' 'A419' 'A434' 'A221' 'A207' 'A423' 'A354' 'A220'\n",
      " 'A433' 'A346' 'A427' 'A357' 'A225' 'A424' 'A217' 'A237' 'A342' 'A349'\n",
      " 'A223' 'A348' 'A432' 'A436' 'A238' 'A219' 'A421' 'A442' 'A206' 'A431'\n",
      " 'A429' 'A356' 'A358' 'A345' 'A420' 'A352' 'A355' 'A435' 'A425' 'A441'\n",
      " 'A437' 'A430' 'A350' 'A443' 'A224' 'A353' 'A362' 'A363' 'A364' 'A444'\n",
      " 'A361' 'A447' 'A446' 'A445' 'A360' 'A366' 'A365' 'A367' 'A448' 'A450'\n",
      " 'A452' 'A449' 'S108' 'A455' 'A454' 'A371' 'A373' 'A451' 'A370' 'A453'\n",
      " 'A372' 'A369' 'A375' 'A368' 'A458' 'A376' 'A374' 'A456' 'A377' 'A255']\n"
     ]
    }
   ],
   "source": [
    "max_date = north_east['Data'].max()\n",
    "min_date = north_east['Data'].min()\n",
    "\n",
    "stations = north_east['station_code'].unique()\n",
    "\n",
    "print(min_date, max_date)\n",
    "print(stations)\n",
    "\n",
    "start_date = '2020-04-30'"
   ]
  },
  {
   "cell_type": "code",
   "execution_count": 4,
   "metadata": {},
   "outputs": [],
   "source": [
    "renamed_columns_en = ['date','hour','total precipitation (mm)','pressao atmosferica ao nivel da estacao (mb)','atmospheric pressure max. in the previous hour (mb)','atmospheric pressure min. in the previous hour (mb)','radiation (kj/m2)','air temperature - dry bulb (°c)','dew point temperature (°c)','max. temperature in the previous hour (°c)','min. temperature in the previous hour (°c)','dew temperature max. in the previous hour (°c)','dew temperature min. in the previous hour (°c)','relative humidity max. in the previous hour (%)','relative humidity min. in the previous hour (%)','air relative humidity (%)','wind direction (° (gr))','wind rajada maxima (m/s)','wind speed (m/s)','region','state','station','station_code','latitude','longitude','height']\n",
    "\n",
    "def process_raw(df):\n",
    "    \"\"\"\n",
    "    ! drop index\n",
    "    ! rename the columns\n",
    "    ! combine hour and date columns -> transform to date_time\n",
    "    ! append columns data from all stations to keep the data granularity\n",
    "    ! remove not useful columns\n",
    "    ! return table \n",
    "    \"\"\"\n",
    "    df.drop(['index'],inplace=True, axis=1)\n",
    "    df.columns = renamed_columns_en\n",
    "    df['date_time'] = pd.to_datetime(df['date'] + ' ' +  df['hour'])\n",
    "    df.drop(['date','hour','pressao atmosferica ao nivel da estacao (mb)','atmospheric pressure max. in the previous hour (mb)','atmospheric pressure min. in the previous hour (mb)','radiation (kj/m2)','air temperature - dry bulb (°c)','dew point temperature (°c)', 'dew temperature max. in the previous hour (°c)','dew temperature min. in the previous hour (°c)','air relative humidity (%)','wind direction (° (gr))','wind rajada maxima (m/s)'], inplace=True, axis=1)\n",
    "\n",
    "    # station_codes = list(df.station_code.unique())\n",
    "    # df_models = by_code(df,station_codes[0])\n",
    "    # if len(station_codes)>1:\n",
    "    #     for i in station_codes[1:]:\n",
    "    #         df_temp = by_code(df,i)\n",
    "    #         df_models = pd.concat([df_models,df_temp],axis=1)\n",
    "    return df\n",
    "\n",
    "# def by_code(df, station_code):\n",
    "#     \"\"\"\n",
    "#     ! function that filters the dataframe by station_code and rename the columns by the status code\n",
    "#     \"\"\"\n",
    "#     df_station = None\n",
    "#     df_station = df[df['station_code'] == station_code]\n",
    "#     df_station.index = df_station.iloc[:,-1]\n",
    "#     df_station.drop(['station_code','date_time'],axis=1,inplace=True)\n",
    "#     df_station.columns = list(map(lambda x: station_code+'_'+x, df_station.columns))\n",
    "    return df_station\n",
    "\n",
    "def clean_na(df, na_value = -9999):\n",
    "    \"\"\" \n",
    "    ! replace Na from dataset\n",
    "    \"\"\"\n",
    "    df = df.replace(to_replace=na_value,value=np.NaN)\n",
    "    df = df[df.iloc[:,1].first_valid_index():]\n",
    "    df = df.fillna(method='ffill')\n",
    "    return df\n",
    "\n",
    "def make_dataset(stations, start_date, df):\n",
    "    \"\"\"\n",
    "    ! filter raw data from date and stations code\n",
    "    ! process data\n",
    "    ! clean na\n",
    "    \"\"\"\n",
    "    df = df[df['Data'] >= start_date]\n",
    "    df = df[df['station_code'].apply(lambda x: x in stations)]\n",
    "    df = process_raw(df)\n",
    "    # df = clean_na(df)\n",
    "    return df.reset_index()   \n"
   ]
  },
  {
   "cell_type": "code",
   "execution_count": 7,
   "metadata": {},
   "outputs": [
    {
     "data": {
      "text/html": [
       "<div>\n",
       "<style scoped>\n",
       "    .dataframe tbody tr th:only-of-type {\n",
       "        vertical-align: middle;\n",
       "    }\n",
       "\n",
       "    .dataframe tbody tr th {\n",
       "        vertical-align: top;\n",
       "    }\n",
       "\n",
       "    .dataframe thead th {\n",
       "        text-align: right;\n",
       "    }\n",
       "</style>\n",
       "<table border=\"1\" class=\"dataframe\">\n",
       "  <thead>\n",
       "    <tr style=\"text-align: right;\">\n",
       "      <th></th>\n",
       "      <th>index</th>\n",
       "      <th>total precipitation (mm)</th>\n",
       "      <th>max. temperature in the previous hour (°c)</th>\n",
       "      <th>min. temperature in the previous hour (°c)</th>\n",
       "      <th>relative humidity max. in the previous hour (%)</th>\n",
       "      <th>relative humidity min. in the previous hour (%)</th>\n",
       "      <th>wind speed (m/s)</th>\n",
       "      <th>region</th>\n",
       "      <th>state</th>\n",
       "      <th>station</th>\n",
       "      <th>station_code</th>\n",
       "      <th>latitude</th>\n",
       "      <th>longitude</th>\n",
       "      <th>height</th>\n",
       "      <th>date_time</th>\n",
       "    </tr>\n",
       "  </thead>\n",
       "  <tbody>\n",
       "  </tbody>\n",
       "</table>\n",
       "</div>"
      ],
      "text/plain": [
       "Empty DataFrame\n",
       "Columns: [index, total precipitation (mm), max. temperature in the previous hour (°c), min. temperature in the previous hour (°c), relative humidity max. in the previous hour (%), relative humidity min. in the previous hour (%), wind speed (m/s), region, state, station, station_code, latitude, longitude, height, date_time]\n",
       "Index: []"
      ]
     },
     "execution_count": 7,
     "metadata": {},
     "output_type": "execute_result"
    }
   ],
   "source": [
    "north_east_Clean = make_dataset(stations,'2019-04-03', north_east)\n",
    "north_east_Clean\n",
    "\n",
    "# the start_date variable I set up produces an empty table"
   ]
  },
  {
   "cell_type": "code",
   "execution_count": 6,
   "metadata": {},
   "outputs": [
    {
     "data": {
      "text/html": [
       "<div>\n",
       "<style scoped>\n",
       "    .dataframe tbody tr th:only-of-type {\n",
       "        vertical-align: middle;\n",
       "    }\n",
       "\n",
       "    .dataframe tbody tr th {\n",
       "        vertical-align: top;\n",
       "    }\n",
       "\n",
       "    .dataframe thead th {\n",
       "        text-align: right;\n",
       "    }\n",
       "</style>\n",
       "<table border=\"1\" class=\"dataframe\">\n",
       "  <thead>\n",
       "    <tr style=\"text-align: right;\">\n",
       "      <th></th>\n",
       "      <th></th>\n",
       "      <th></th>\n",
       "      <th>index</th>\n",
       "      <th>total precipitation (mm)</th>\n",
       "      <th>max. temperature in the previous hour (°c)</th>\n",
       "      <th>min. temperature in the previous hour (°c)</th>\n",
       "      <th>relative humidity max. in the previous hour (%)</th>\n",
       "      <th>relative humidity min. in the previous hour (%)</th>\n",
       "      <th>wind speed (m/s)</th>\n",
       "      <th>latitude</th>\n",
       "      <th>longitude</th>\n",
       "      <th>height</th>\n",
       "    </tr>\n",
       "    <tr>\n",
       "      <th>date_time</th>\n",
       "      <th>date_time</th>\n",
       "      <th>date_time</th>\n",
       "      <th></th>\n",
       "      <th></th>\n",
       "      <th></th>\n",
       "      <th></th>\n",
       "      <th></th>\n",
       "      <th></th>\n",
       "      <th></th>\n",
       "      <th></th>\n",
       "      <th></th>\n",
       "      <th></th>\n",
       "    </tr>\n",
       "  </thead>\n",
       "  <tbody>\n",
       "  </tbody>\n",
       "</table>\n",
       "</div>"
      ],
      "text/plain": [
       "Empty DataFrame\n",
       "Columns: [index, total precipitation (mm), max. temperature in the previous hour (°c), min. temperature in the previous hour (°c), relative humidity max. in the previous hour (%), relative humidity min. in the previous hour (%), wind speed (m/s), latitude, longitude, height]\n",
       "Index: []"
      ]
     },
     "execution_count": 6,
     "metadata": {},
     "output_type": "execute_result"
    }
   ],
   "source": [
    "north_east_Clean.groupby(by=[north_east_Clean['date_time'].dt.year, \n",
    "    north_east_Clean['date_time'].dt.month,\n",
    "    north_east_Clean['date_time'].dt.day ]).mean()\n"
   ]
  }
 ],
 "metadata": {
  "kernelspec": {
   "display_name": "Python 3.7.13 ('bootcamp')",
   "language": "python",
   "name": "python3"
  },
  "language_info": {
   "codemirror_mode": {
    "name": "ipython",
    "version": 3
   },
   "file_extension": ".py",
   "mimetype": "text/x-python",
   "name": "python",
   "nbconvert_exporter": "python",
   "pygments_lexer": "ipython3",
   "version": "3.7.13"
  },
  "orig_nbformat": 4,
  "vscode": {
   "interpreter": {
    "hash": "2bc8728f68034420f4cc4c1a33cad6b752b6f009e9e443ca9c4b593c272a5f29"
   }
  }
 },
 "nbformat": 4,
 "nbformat_minor": 2
}
